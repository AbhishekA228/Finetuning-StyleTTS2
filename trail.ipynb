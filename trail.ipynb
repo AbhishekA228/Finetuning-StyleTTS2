{
 "cells": [
  {
   "cell_type": "code",
   "execution_count": null,
   "metadata": {},
   "outputs": [],
   "source": [
    "import os\n",
    "import pandas as pd\n",
    "from torch.utils.data import Dataset, DataLoader\n",
    "from transformers import StyleTTSForConditionalGeneration, StyleTTSConfig, Trainer, TrainingArguments\n",
    "from transformers import Wav2Vec2Processor"
   ]
  },
  {
   "cell_type": "code",
   "execution_count": null,
   "metadata": {},
   "outputs": [],
   "source": [
    "class LJSpeechDataset(Dataset):\n",
    "    def __init__(self, folder_path):\n",
    "        self.folder_path = folder_path\n",
    "        self.metadata = pd.read_csv(os.path.join(folder_path, \"metadata.csv\"), sep=\"|\", header=None, names=[\"audio_path\", \"text\"])\n",
    "\n",
    "    def __len__(self):\n",
    "        return len(self.metadata)\n",
    "\n",
    "    def __getitem__(self, idx):\n",
    "        audio_path = os.path.join(self.folder_path, \"wavs\", self.metadata.iloc[idx][\"audio_path\"])\n",
    "        text = self.metadata.iloc[idx][\"text\"]\n",
    "        return audio_path, text\n"
   ]
  },
  {
   "cell_type": "code",
   "execution_count": null,
   "metadata": {},
   "outputs": [],
   "source": [
    "# Initialize the dataset\n",
    "dataset = LJSpeechDataset(r\"C:\\Users\\Abhishek A\\Desktop\\AI&ML\\NLP Projects\\Style TTS\\StyleTTS2-main\\LJSpeech\")\n",
    "\n",
    "# Initialize the StyleTTS model\n",
    "config = StyleTTSConfig.from_pretrained(\"tugstugi/style-speech\")\n",
    "model = StyleTTSForConditionalGeneration.from_pretrained(\"tugstugi/style-speech\", config=config)\n",
    "\n",
    "# Initialize the Wav2Vec2 processor\n",
    "processor = Wav2Vec2Processor.from_pretrained(\"facebook/wav2vec2-base-960h\")"
   ]
  },
  {
   "cell_type": "code",
   "execution_count": 2,
   "metadata": {},
   "outputs": [
    {
     "ename": "SyntaxError",
     "evalue": "keyword argument repeated: return_tensors (3828263169.py, line 4)",
     "output_type": "error",
     "traceback": [
      "\u001b[1;36m  Cell \u001b[1;32mIn[2], line 4\u001b[1;36m\u001b[0m\n\u001b[1;33m    inputs = processor(texts, return_tensors=\"pt\", padding=True, truncation=True, max_length=512, return_tensors=\"pt\")\u001b[0m\n\u001b[1;37m                                                                                                  ^\u001b[0m\n\u001b[1;31mSyntaxError\u001b[0m\u001b[1;31m:\u001b[0m keyword argument repeated: return_tensors\n"
     ]
    }
   ],
   "source": [
    "\n",
    "# Define a function to preprocess the data\n",
    "def preprocess_data(batch):\n",
    "    audio_paths, texts = zip(*batch)\n",
    "    inputs = processor(texts, return_tensors=\"pt\", padding=True, truncation=True, max_length=512, return_tensors=\"pt\")\n",
    "    labels = processor(audio_paths, return_tensors=\"pt\", padding=True, truncation=True, max_length=512, return_tensors=\"pt\")\n",
    "    return {\n",
    "        \"input_ids\": inputs[\"input_ids\"],\n",
    "        \"attention_mask\": inputs[\"attention_mask\"],\n",
    "        \"labels\": labels[\"input_values\"],\n",
    "        \"labels_attention_mask\": labels[\"attention_mask\"],\n",
    "    }\n",
    "\n",
    "# Preprocess the data\n",
    "train_dataset = dataset\n",
    "train_dataloader = DataLoader(train_dataset, batch_size=4, shuffle=True, collate_fn=preprocess_data)\n",
    "\n",
    "# Define the training arguments\n",
    "training_args = TrainingArguments(\n",
    "    output_dir=\"./output\",\n",
    "    num_train_epochs=3,\n",
    "    per_device_train_batch_size=4,\n",
    "    logging_dir=\"./logs\",\n",
    ")"
   ]
  },
  {
   "cell_type": "code",
   "execution_count": null,
   "metadata": {},
   "outputs": [],
   "source": [
    "\n",
    "# Define the trainer\n",
    "trainer = Trainer(\n",
    "    model=model,\n",
    "    args=training_args,\n",
    "    train_dataset=train_dataset,\n",
    "    data_collator=preprocess_data,\n",
    ")\n",
    "\n",
    "# Start training\n",
    "trainer.train()"
   ]
  }
 ],
 "metadata": {
  "kernelspec": {
   "display_name": "Python 3",
   "language": "python",
   "name": "python3"
  },
  "language_info": {
   "codemirror_mode": {
    "name": "ipython",
    "version": 3
   },
   "file_extension": ".py",
   "mimetype": "text/x-python",
   "name": "python",
   "nbconvert_exporter": "python",
   "pygments_lexer": "ipython3",
   "version": "3.9.13"
  }
 },
 "nbformat": 4,
 "nbformat_minor": 2
}
